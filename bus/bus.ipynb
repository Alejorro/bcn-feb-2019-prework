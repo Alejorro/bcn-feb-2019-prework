{
 "cells": [
  {
   "cell_type": "markdown",
   "metadata": {},
   "outputs": [],
   "source": [
    "# Bus\n",
    "\n",
    "This bus has a passenger entry and exit control system to monitor the number of occupants it carries and thus detect when there is too high a capacity.\n",
    "\n",
    "At each stop the entry and exit of passengers is represented by a tuple consisting of two integer numbers.\n",
    "```\n",
    "bus_stop = (in, out)\n",
    "```\n",
    "The succession of stops is represented by a list of these tuples.\n",
    "```\n",
    "stops = [(in1, out1), (in2, out2), (in3, out3), (in4, out4)]\n",
    "```\n",
    "\n",
    "## Goals:\n",
    "* lists, tuples\n",
    "* while/for loops\n",
    "* minimum, maximum, length\n",
    "* average, standard deviation\n",
    "\n",
    "## Tasks\n",
    "1. Calculate the number of stops.\n",
    "2. Assign to a variable a list whose elements are the number of passengers at each stop (in-out),\n",
    "3. Find the maximum occupation of the bus.\n",
    "4. Calculate the average occupation. And the standard deviation.\n"
   ]
  },
  {
   "cell_type": "code",
   "execution_count": 208,
   "metadata": {},
   "outputs": [],
   "source": [
    "# variables\n",
    "\n",
    "max_passengers = 35\n",
    "\n",
    "in1 = 0\n",
    "\n",
    "out1 = 0\n",
    "\n",
    "\n",
    "in2 = 0\n",
    "\n",
    "out2 = 0\n",
    "\n",
    "\n",
    "in3 = 0\n",
    "\n",
    "out3 = 0\n",
    "\n",
    "\n",
    "in4 = 0\n",
    "\n",
    "out4 = 0\n",
    "\n",
    "\n",
    "stops = [(in1, out1), (in2, out2), (in3, out3), (in4, out4)]\n"
   ]
  },
  {
   "cell_type": "code",
   "execution_count": 209,
   "metadata": {},
   "outputs": [
    {
     "data": {
      "text/plain": "4"
     },
     "execution_count": 209,
     "metadata": {},
     "output_type": "execute_result"
    }
   ],
   "source": [
    "# 1. Calculate the number of stops.\n",
    "\n",
    "len(stops)\n"
   ]
  },
  {
   "cell_type": "code",
   "execution_count": 210,
   "metadata": {},
   "outputs": [
    {
     "name": "stdout",
     "output_type": "stream",
     "text": "[(22, 2), (8, 0), (24, 17), (2, 2)]\n"
    }
   ],
   "source": [
    "# 2. Assign a variable a list whose elements are the number of passengers in each stop: \n",
    "# Each item depends on the previous item in the list + in - out.\n",
    "\n",
    "\n",
    "import random\n",
    "\n",
    "\n",
    "max_passengers = 35\n",
    "\n",
    "\n",
    "in1 = random.randint(0,max_passengers)\n",
    "\n",
    "out1= random.randint(0,in1)\n",
    "\n",
    "\n",
    "\n",
    "in2 =  random.randint(0, (max_passengers - (in1-out1)))\n",
    "\n",
    "out2 = random.randint(0,in2)\n",
    "\n",
    "\n",
    "    \n",
    "in3 =  random.randint(0,(max_passengers - (in2-out2)))\n",
    "\n",
    "out3 = random.randint(0,in3)\n",
    "\n",
    "\n",
    "\n",
    "in4 =  random.randint(0,(max_passengers - (in3-out3)))\n",
    "\n",
    "out4 = random.randint(0,in4)\n",
    "\n",
    "\n",
    "\n",
    "stops = [(in1, out1), (in2, out2), (in3, out3), (in4, out4)]\n",
    "\n",
    "print(stops)\n",
    "\n",
    "\n",
    "\n"
   ]
  },
  {
   "cell_type": "code",
   "execution_count": 211,
   "metadata": {},
   "outputs": [
    {
     "name": "stdout",
     "output_type": "stream",
     "text": "La máxima ocupación fue en la 3 parada\n"
    }
   ],
   "source": [
    "# 3. Find the maximum occupation of the bus.\n",
    "\n",
    "max_occupation = stops.index(max(stops)) + 1\n",
    "\n",
    "print(\"La máxima ocupación fue en la %d parada\" %(max_occupation))\n"
   ]
  },
  {
   "cell_type": "code",
   "execution_count": 212,
   "metadata": {},
   "outputs": [],
   "source": [
    "# 4. Calculate the average occupation. And the standard deviation.\n",
    "\n",
    "\n",
    "\n"
   ]
  },
  {
   "cell_type": "code",
   "metadata": {},
   "outputs": [],
   "source": []
  }
 ],
 "metadata": {
  "kernelspec": {
   "display_name": "Python 3",
   "language": "python",
   "name": "python3"
  },
  "language_info": {
   "codemirror_mode": {
    "name": "ipython",
    "version": 3
   },
   "file_extension": ".py",
   "mimetype": "text/x-python",
   "name": "python",
   "nbconvert_exporter": "python",
   "pygments_lexer": "ipython3",
   "version": "3.6.8"
  }
 },
 "nbformat": 4,
 "nbformat_minor": 2
}