{
 "cells": [
  {
   "cell_type": "markdown",
   "metadata": {},
   "outputs": [],
   "source": [
    "# Bus\n",
    "\n",
    "This bus has a passenger entry and exit control system to monitor the number of occupants it carries and thus detect when there is too high a capacity.\n",
    "\n",
    "At each stop the entry and exit of passengers is represented by a tuple consisting of two integer numbers.\n",
    "```\n",
    "bus_stop = (in, out)\n",
    "```\n",
    "The succession of stops is represented by a list of these tuples.\n",
    "```\n",
    "stops = [(in1, out1), (in2, out2), (in3, out3), (in4, out4)]\n",
    "```\n",
    "\n",
    "## Goals:\n",
    "* lists, tuples\n",
    "* while/for loops\n",
    "* minimum, maximum, length\n",
    "* average, standard deviation\n",
    "\n",
    "## Tasks\n",
    "1. Calculate the number of stops.\n",
    "2. Assign to a variable a list whose elements are the number of passengers at each stop (in-out),\n",
    "3. Find the maximum occupation of the bus.\n",
    "4. Calculate the average occupation. And the standard deviation.\n"
   ]
  },
  {
   "cell_type": "code",
   "execution_count": 265,
   "metadata": {},
   "outputs": [],
   "source": [
    "# variables\n",
    "\n",
    "max_passengers = 35\n",
    "\n",
    "in1 = 0\n",
    "\n",
    "out1 = 0\n",
    "\n",
    "\n",
    "in2 = 0\n",
    "\n",
    "out2 = 0\n",
    "\n",
    "\n",
    "in3 = 0\n",
    "\n",
    "out3 = 0\n",
    "\n",
    "\n",
    "in4 = 0\n",
    "\n",
    "out4 = 0\n",
    "\n",
    "\n",
    "stops = [(in1, out1), (in2, out2), (in3, out3), (in4, out4)]\n"
   ]
  },
  {
   "cell_type": "code",
   "execution_count": 272,
   "metadata": {},
   "outputs": [
    {
     "name": "stdout",
     "output_type": "stream",
     "text": "Hubo un total de 4 paradas\n"
    }
   ],
   "source": [
    "# 1. Calculate the number of stops.\n",
    "\n",
    "stops_calc = len(stops)\n",
    "\n",
    "\n",
    "print(\"Hubo un total de %d paradas\" %(stops_calc))"
   ]
  },
  {
   "cell_type": "code",
   "execution_count": 267,
   "metadata": {},
   "outputs": [
    {
     "name": "stdout",
     "output_type": "stream",
     "text": "[(24, 0), (0, 7), (10, 20), (0, 7)]\n"
    }
   ],
   "source": [
    "# 2. Assign a variable a list whose elements are the number of passengers in each stop: \n",
    "# Each item depends on the previous item in the list + in - out.\n",
    "\n",
    "\n",
    "import random\n",
    "\n",
    "\n",
    "max_passengers = 35\n",
    "\n",
    "\n",
    "in1 = random.randint(0,max_passengers)\n",
    "\n",
    "out1= 0\n",
    "\n",
    "\n",
    "\n",
    "in2 =  random.randint(0, (max_passengers - (in1-out1)))\n",
    "\n",
    "out2 = abs(random.randint(0,((in1-out1)+in2)))\n",
    "\n",
    "\n",
    "    \n",
    "in3 =  random.randint(0,(max_passengers - ((in1-out1) + (in2-out2))))\n",
    "\n",
    "out3 = abs(random.randint(0,((in1-out1)+(in2-out2)+in3)))\n",
    "\n",
    "\n",
    "\n",
    "in4 =  0\n",
    "\n",
    "out4 = (in1-out1) + (in2-out2) + (in3-out3) + in4\n",
    "\n",
    "\n",
    "\n",
    "stops = [(in1, out1), (in2, out2), (in3, out3), (in4, out4)]\n",
    "\n",
    "print(stops)\n",
    "\n",
    "\n",
    "\n"
   ]
  },
  {
   "cell_type": "code",
   "execution_count": 268,
   "metadata": {},
   "outputs": [
    {
     "name": "stdout",
     "output_type": "stream",
     "text": "La máxima entrada de personas fue en la 1º parada.\n"
    }
   ],
   "source": [
    "# 3. Find the maximum occupation of the bus\n",
    "\n",
    "max_in = stops.index(max(stops)) + 1\n",
    "\n",
    "print(\"La máxima entrada de personas fue en la %dº parada.\" %(max_in))\n"
   ]
  },
  {
   "cell_type": "code",
   "execution_count": 269,
   "metadata": {},
   "outputs": [
    {
     "name": "stdout",
     "output_type": "stream",
     "text": "[[1, 24], [2, 17], [3, 7], [4, 0]]\nLa máxima ocupación fue de 24 personas, 11 personas menos que el máximo permitido de 35\n"
    }
   ],
   "source": [
    "def final_result(data):\n",
    "\n",
    "    support = 0\n",
    "\n",
    "    result = []\n",
    "\n",
    "    for stop,occupation in enumerate(data):\n",
    "\n",
    "        support += occupation\n",
    "        \n",
    "        result.append([(stop+1),support])\n",
    "\n",
    "    print(result)\n",
    "\n",
    "    return  result\n",
    "\n",
    "calc = final_result([(in1 - out1), (in2 - out2), (in3 - out3), (in4 - out4)])\n",
    "\n",
    "\n",
    "\n",
    "max_occupation = max(calc[0][1], calc[1][1], calc[2][1], calc[3][1])\n",
    "\n",
    "print(\"La máxima ocupación fue de %d personas, %d personas menos que el máximo permitido de %d\" %(max_occupation ,(max_passengers-max_occupation),max_passengers))\n",
    "\n",
    "\n",
    "\n"
   ]
  },
  {
   "cell_type": "code",
   "execution_count": 271,
   "metadata": {},
   "outputs": [
    {
     "name": "stdout",
     "output_type": "stream",
     "text": "La media de ocupación fue de 12.\nLa desviación estándar fue de 10.\n"
    }
   ],
   "source": [
    "# 4. Calculate the average occupation. And the standard deviation.\n",
    "\n",
    "import statistics as stats\n",
    "\n",
    "\n",
    "data_occupation = calc[0][1], calc[1][1], calc[2][1], calc[3][1]\n",
    "\n",
    "\n",
    "mean_calc = stats.mean(data_occupation)\n",
    "\n",
    "desviation_calc = stats.stdev(data_occupation)\n",
    "\n",
    "\n",
    "\n",
    "print(\"La media de ocupación fue de %d.\" %(mean_calc))\n",
    "\n",
    "\n",
    "print(\"La desviación estándar fue de %d.\" %(desviation_calc))\n",
    "\n"
   ]
  }
 ],
 "metadata": {
  "kernelspec": {
   "display_name": "Python 3",
   "language": "python",
   "name": "python3"
  },
  "language_info": {
   "codemirror_mode": {
    "name": "ipython",
    "version": 3
   },
   "file_extension": ".py",
   "mimetype": "text/x-python",
   "name": "python",
   "nbconvert_exporter": "python",
   "pygments_lexer": "ipython3",
   "version": "3.6.8"
  }
 },
 "nbformat": 4,
 "nbformat_minor": 2
}